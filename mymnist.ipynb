{
 "cells": [
  {
   "cell_type": "code",
   "execution_count": 1,
   "metadata": {},
   "outputs": [],
   "source": [
    "import numpy as np\n",
    "import pandas as pd\n",
    "import matplotlib.pyplot as plt\n",
    "%matplotlib inline\n",
    "from keras.datasets import mnist\n",
    "from keras.models import Sequential\n",
    "from keras.layers import Dense, Dropout, Activation, Flatten\n",
    "from keras.optimizers import Adam\n",
    "from keras.layers.normalization import BatchNormalization\n",
    "from keras.utils import np_utils\n",
    "from keras.layers import Conv2D, MaxPooling2D, ZeroPadding2D, GlobalAveragePooling2D\n",
    "from keras.layers.advanced_activations import LeakyReLU \n",
    "from keras.preprocessing.image import ImageDataGenerator\n",
    "\n",
    "np.random.seed(25)"
   ]
  },
  {
   "cell_type": "code",
   "execution_count": 2,
   "metadata": {},
   "outputs": [
    {
     "name": "stdout",
     "output_type": "stream",
     "text": [
      "X_train original shape (60000, 28, 28)\n",
      "y_train original shape (60000,)\n",
      "X_test original shape (10000, 28, 28)\n",
      "y_test original shape (10000,)\n"
     ]
    }
   ],
   "source": [
    "(X_train, y_train), (X_test, y_test) = mnist.load_data()\n",
    "print(\"X_train original shape\", X_train.shape)\n",
    "print(\"y_train original shape\", y_train.shape)\n",
    "print(\"X_test original shape\", X_test.shape)\n",
    "print(\"y_test original shape\", y_test.shape)"
   ]
  },
  {
   "cell_type": "code",
   "execution_count": 3,
   "metadata": {},
   "outputs": [
    {
     "data": {
      "text/plain": [
       "Text(0.5, 1.0, 'Class 5')"
      ]
     },
     "execution_count": 3,
     "metadata": {},
     "output_type": "execute_result"
    },
    {
     "data": {
      "image/png": "[encoded data removed]",
      "text/plain": [
       "<Figure size 432x288 with 1 Axes>"
      ]
     },
     "metadata": {
      "needs_background": "light"
     },
     "output_type": "display_data"
    }
   ],
   "source": [
    "plt.imshow(X_train[0], cmap='gray')\n",
    "plt.title('Class '+ str(y_train[0]))"
   ]
  },
  {
   "cell_type": "code",
   "execution_count": 4,
   "metadata": {
    "scrolled": false
   },
   "outputs": [
    {
     "data": {
      "text/plain": [
       "(60000, 28, 28, 1)"
      ]
     },
     "execution_count": 4,
     "metadata": {},
     "output_type": "execute_result"
    }
   ],
   "source": [
    "X_train = X_train.reshape(X_train.shape[0], 28, 28, 1)\n",
    "X_test = X_test.reshape(X_test.shape[0], 28, 28, 1)\n",
    "\n",
    "X_train = X_train.astype('float32')\n",
    "X_test = X_test.astype('float32')\n",
    "\n",
    "X_train/=255\n",
    "X_test/=255\n",
    "\n",
    "X_train.shape"
   ]
  },
  {
   "cell_type": "code",
   "execution_count": 5,
   "metadata": {},
   "outputs": [
    {
     "data": {
      "text/plain": [
       "(5, array([0., 0., 0., 0., 0., 1., 0., 0., 0., 0.], dtype=float32))"
      ]
     },
     "execution_count": 5,
     "metadata": {},
     "output_type": "execute_result"
    }
   ],
   "source": [
    "number_of_classes = 10\n",
    "\n",
    "Y_train = np_utils.to_categorical(y_train, number_of_classes)\n",
    "Y_test = np_utils.to_categorical(y_test, number_of_classes)\n",
    "\n",
    "y_train[0], Y_train[0]"
   ]
  },
  {
   "cell_type": "code",
   "execution_count": 6,
   "metadata": {},
   "outputs": [],
   "source": [
    "model = Sequential()\n",
    "\n",
    "model.add(Conv2D(32, (3, 3), input_shape=(28,28,1)))\n",
    "model.add(Activation('relu'))\n",
    "BatchNormalization(axis=-1)\n",
    "\n",
    "model.add(Conv2D(32, (3, 3)))\n",
    "model.add(Activation('relu'))\n",
    "model.add(MaxPooling2D(pool_size=(2,2)))\n",
    "BatchNormalization(axis=-1)\n",
    "\n",
    "model.add(Conv2D(64,(3, 3)))\n",
    "model.add(Activation('relu'))\n",
    "BatchNormalization(axis=-1)\n",
    "\n",
    "\n",
    "model.add(Flatten())\n",
    "\n",
    "BatchNormalization()\n",
    "model.add(Dense(10))\n",
    "model.add(Activation('softmax'))"
   ]
  },
  {
   "cell_type": "code",
   "execution_count": 7,
   "metadata": {},
   "outputs": [
    {
     "name": "stdout",
     "output_type": "stream",
     "text": [
      "Model: \"sequential\"\n",
      "_________________________________________________________________\n",
      "Layer (type)                 Output Shape              Param #   \n",
      "=================================================================\n",
      "conv2d (Conv2D)              (None, 26, 26, 32)        320       \n",
      "_________________________________________________________________\n",
      "activation (Activation)      (None, 26, 26, 32)        0         \n",
      "_________________________________________________________________\n",
      "conv2d_1 (Conv2D)            (None, 24, 24, 32)        9248      \n",
      "_________________________________________________________________\n",
      "activation_1 (Activation)    (None, 24, 24, 32)        0         \n",
      "_________________________________________________________________\n",
      "max_pooling2d (MaxPooling2D) (None, 12, 12, 32)        0         \n",
      "_________________________________________________________________\n",
      "conv2d_2 (Conv2D)            (None, 10, 10, 64)        18496     \n",
      "_________________________________________________________________\n",
      "activation_2 (Activation)    (None, 10, 10, 64)        0         \n",
      "_________________________________________________________________\n",
      "flatten (Flatten)            (None, 6400)              0         \n",
      "_________________________________________________________________\n",
      "dense (Dense)                (None, 10)                64010     \n",
      "_________________________________________________________________\n",
      "activation_3 (Activation)    (None, 10)                0         \n",
      "=================================================================\n",
      "Total params: 92,074\n",
      "Trainable params: 92,074\n",
      "Non-trainable params: 0\n",
      "_________________________________________________________________\n"
     ]
    }
   ],
   "source": [
    "model.summary()"
   ]
  },
  {
   "cell_type": "code",
   "execution_count": 8,
   "metadata": {},
   "outputs": [],
   "source": [
    "model.compile(loss='categorical_crossentropy', optimizer=Adam(), metrics=['accuracy'])"
   ]
  },
  {
   "cell_type": "code",
   "execution_count": 9,
   "metadata": {},
   "outputs": [],
   "source": [
    "model.load_weights('abc.h5')"
   ]
  },
  {
   "cell_type": "code",
   "execution_count": 9,
   "metadata": {},
   "outputs": [
    {
     "name": "stdout",
     "output_type": "stream",
     "text": [
      "Epoch 1/4\n",
      "5400/5400 [==============================] - 76s 14ms/step - loss: 0.1017 - accuracy: 0.9691 - val_loss: 0.0562 - val_accuracy: 0.9855\n",
      "Epoch 2/4\n",
      "5400/5400 [==============================] - 64s 12ms/step - loss: 0.0389 - accuracy: 0.9877 - val_loss: 0.0389 - val_accuracy: 0.9902\n",
      "Epoch 3/4\n",
      "5400/5400 [==============================] - 64s 12ms/step - loss: 0.0269 - accuracy: 0.9912 - val_loss: 0.0392 - val_accuracy: 0.9903\n",
      "Epoch 4/4\n",
      "5400/5400 [==============================] - 64s 12ms/step - loss: 0.0189 - accuracy: 0.9941 - val_loss: 0.0309 - val_accuracy: 0.9918\n"
     ]
    },
    {
     "data": {
      "text/plain": [
       "<tensorflow.python.keras.callbacks.History at 0x24212153bc8>"
      ]
     },
     "execution_count": 9,
     "metadata": {},
     "output_type": "execute_result"
    }
   ],
   "source": [
    "model.fit(X_train, Y_train,validation_split=0.1, batch_size=10, epochs=4,verbose=1)"
   ]
  },
  {
   "cell_type": "code",
   "execution_count": 10,
   "metadata": {},
   "outputs": [],
   "source": [
    "model.save_weights('wt.h5')"
   ]
  },
  {
   "cell_type": "code",
   "execution_count": 31,
   "metadata": {},
   "outputs": [
    {
     "name": "stdout",
     "output_type": "stream",
     "text": [
      "313/313 [==============================] - 4s 12ms/step - loss: 0.0313 - accuracy: 0.9898\n",
      "\n",
      "Test accuracy:  0.989799976348877\n"
     ]
    }
   ],
   "source": [
    "score = model.evaluate(X_test, Y_test)\n",
    "print('Test accuracy: ', score[1])"
   ]
  },
  {
   "cell_type": "code",
   "execution_count": 33,
   "metadata": {},
   "outputs": [],
   "source": [
    "import keras"
   ]
  },
  {
   "cell_type": "code",
   "execution_count": 22,
   "metadata": {
    "scrolled": true
   },
   "outputs": [
    {
     "name": "stdout",
     "output_type": "stream",
     "text": [
      "l1 norm conv layer 1\n",
      " [(22, 0.50989795), (5, 0.6098039), (26, 0.6764363), (16, 0.6816986), (21, 0.71029073), (0, 0.7180866), (1, 0.7294316), (14, 0.8152753), (25, 0.84537804), (19, 0.85747844), (28, 0.86638886), (8, 0.9041151), (18, 0.9174723), (7, 0.963347), (12, 0.9684938), (4, 1.0079188), (30, 1.0356227), (27, 1.0482264), (6, 1.0509502), (13, 1.0588474), (31, 1.0755559), (23, 1.1097866), (24, 1.1354761), (2, 1.14868), (17, 1.2158815), (9, 1.222276), (20, 1.2289324), (15, 1.2747583), (10, 1.3078643), (29, 1.3744755), (3, 1.4117577), (11, 1.493885)]\n",
      "lets see\n",
      "[22, 5, 26, 16, 21, 0, 1, 14, 25, 19, 28, 8, 18, 7, 12, 4, 30, 27, 6, 13, 31, 23, 24, 2, 17, 9, 20, 15, 10, 29, 3, 11]\n",
      "l1 norm conv layer 2\n",
      " [(16, 20.84054), (12, 21.353367), (11, 23.719368), (10, 24.634224), (28, 24.829327), (4, 25.009144), (21, 25.606518), (29, 25.657448), (0, 25.938015), (15, 26.242447), (20, 26.527817), (26, 27.071983), (30, 27.182846), (27, 27.245205), (24, 27.767324), (2, 28.186903), (18, 28.266201), (9, 28.33144), (23, 28.510317), (25, 28.614231), (1, 28.929583), (7, 29.275265), (6, 30.14759), (14, 30.42331), (8, 30.706064), (13, 31.258816), (19, 31.999851), (31, 32.20039), (5, 33.092415), (17, 33.70366), (3, 34.80059), (22, 37.680416)]\n",
      "lets see\n",
      "[16, 12, 11, 10, 28, 4, 21, 29, 0, 15, 20, 26, 30, 27, 24, 2, 18, 9, 23, 25, 1, 7, 6, 14, 8, 13, 19, 31, 5, 17, 3, 22]\n",
      "l1 norm conv layer 3\n",
      " [(1, 12.836476), (31, 15.33448), (0, 15.452726), (24, 18.17437), (49, 18.314257), (2, 18.634584), (51, 19.418356), (29, 20.99383), (48, 21.077261), (9, 21.417213), (46, 21.452526), (6, 21.778053), (14, 22.597542), (5, 22.886574), (15, 23.058014), (22, 23.180096), (33, 23.56962), (62, 23.63654), (42, 23.674063), (3, 23.84146), (26, 23.880703), (41, 24.103271), (47, 24.363491), (60, 24.399174), (53, 24.402885), (27, 24.466595), (10, 24.699585), (23, 24.701225), (58, 24.706234), (28, 24.797941), (21, 24.829775), (39, 24.931484), (13, 24.946335), (36, 24.990162), (19, 25.07303), (38, 25.11201), (12, 25.334911), (57, 25.471533), (25, 25.582245), (45, 25.622211), (4, 26.013569), (63, 26.148945), (56, 26.227589), (20, 26.338772), (54, 26.51964), (35, 26.554388), (17, 26.574518), (7, 26.76425), (55, 26.790888), (52, 26.810097), (30, 27.046799), (8, 27.129429), (34, 27.237926), (61, 27.504156), (18, 27.728363), (44, 28.433508), (40, 28.702717), (11, 28.81836), (50, 29.380268), (37, 29.522877), (16, 29.76498), (59, 29.857664), (43, 31.0203), (32, 31.07682)]\n",
      "lets see\n",
      "[1, 31, 0, 24, 49, 2, 51, 29, 48, 9, 46, 6, 14, 5, 15, 22, 33, 62, 42, 3, 26, 41, 47, 60, 53, 27, 10, 23, 58, 28, 21, 39, 13, 36, 19, 38, 12, 57, 25, 45, 4, 63, 56, 20, 54, 35, 17, 7, 55, 52, 30, 8, 34, 61, 18, 44, 40, 11, 50, 37, 16, 59, 43, 32]\n"
     ]
    },
    {
     "data": {
      "image/png": "[encoded data removed]",
      "text/plain": [
       "<Figure size 504x360 with 1 Axes>"
      ]
     },
     "metadata": {
      "needs_background": "light"
     },
     "output_type": "display_data"
    },
    {
     "data": {
      "image/png": "[encoded data removed]",
      "text/plain": [
       "<Figure size 504x360 with 1 Axes>"
      ]
     },
     "metadata": {
      "needs_background": "light"
     },
     "output_type": "display_data"
    },
    {
     "data": {
      "image/png": "[encoded data removed]",
      "text/plain": [
       "<Figure size 504x360 with 1 Axes>"
      ]
     },
     "metadata": {
      "needs_background": "light"
     },
     "output_type": "display_data"
    }
   ],
   "source": [
    "w1=model.layers[0].get_weights()[0]\n",
    "w2=model.layers[2].get_weights()[0]\n",
    "w3=model.layers[5].get_weights()[0]\n",
    "conv_layer_weights=[w1,w2,w3]\n",
    "c=[[],[],[]]\n",
    "\n",
    "for i in range(len(conv_layer_weights)):\n",
    "    weight=conv_layer_weights[i]\n",
    "    weights_dict={}\n",
    "    num_filters=len(weight[0,0,0,:])\n",
    "    \n",
    "    for j in range(num_filters):\n",
    "        w_s=np.sum(abs(weight[:,:,:,j]))\n",
    "        #filt='filt_{}'.format(j)\n",
    "        filt=j\n",
    "        weights_dict[filt]=w_s\n",
    "        \n",
    "    #weights_dict_sort=sorted(weights_dict.items(),key=lambda kv:kv[i])\n",
    "    weights_dict_sort=(sorted(weights_dict.items(), key = lambda kv:(kv[1], kv[0]))) \n",
    "    print('l1 norm conv layer {}\\n'.format(i+1),weights_dict_sort)\n",
    "    \n",
    "    weights_value=[]\n",
    "    for elem in weights_dict_sort:\n",
    "        weights_value.append(elem[1])\n",
    "        c[i].append(elem[0])\n",
    "    xc=range(num_filters)\n",
    "    \n",
    "    print('lets see')\n",
    "    print(c[i])\n",
    "    \n",
    "    plt.figure(i+1,figsize=(7,5))\n",
    "    plt.plot(xc,weights_value)\n",
    "    plt.xlabel('filter number')\n",
    "    plt.ylabel('l1 norm')\n",
    "    plt.grid(True)"
   ]
  },
  {
   "cell_type": "code",
   "execution_count": 23,
   "metadata": {},
   "outputs": [],
   "source": [
    "from kerassurgeon import identify"
   ]
  },
  {
   "cell_type": "code",
   "execution_count": 24,
   "metadata": {},
   "outputs": [],
   "source": [
    "from kerassurgeon.operations import delete_channels,delete_layer\n"
   ]
  },
  {
   "cell_type": "code",
   "execution_count": 43,
   "metadata": {},
   "outputs": [
    {
     "name": "stdout",
     "output_type": "stream",
     "text": [
      "Deleting 16/32 channels from layer: conv2d\n",
      "Deleting 16/32 channels from layer: conv2d_1\n",
      "Deleting 32/64 channels from layer: conv2d_2\n"
     ]
    }
   ],
   "source": [
    "from kerassurgeon import Surgeon\n",
    "d1=16\n",
    "d2=16\n",
    "d3=40\n",
    "\n",
    "layer_0=model.layers[0]\n",
    "layer_2=model.layers[2]\n",
    "layer_5=model.layers[5]\n",
    "surgeon=Surgeon(model)\n",
    "surgeon.add_job('delete_channels',layer_0,channels=c[0][:d1])\n",
    "surgeon.add_job('delete_channels',layer_2,channels=c[0][:d2])\n",
    "surgeon.add_job('delete_channels',layer_5,channels=c[0][:d3])\n",
    "new_model=surgeon.operate()\n",
    "new_model.compile(loss='categorical_crossentropy', optimizer=Adam(), metrics=['accuracy'])"
   ]
  },
  {
   "cell_type": "code",
   "execution_count": 44,
   "metadata": {},
   "outputs": [],
   "source": [
    "new_model.save_weights('wt_new.h5')"
   ]
  },
  {
   "cell_type": "code",
   "execution_count": 45,
   "metadata": {},
   "outputs": [
    {
     "name": "stdout",
     "output_type": "stream",
     "text": [
      "313/313 [==============================] - 2s 7ms/step - loss: 0.5593 - accuracy: 0.9545\n",
      "\n",
      "Test accuracy:  0.9545000195503235\n"
     ]
    }
   ],
   "source": [
    "score = new_model.evaluate(X_test, Y_test)\n",
    "print('Test accuracy: ', score[1])"
   ]
  },
  {
   "cell_type": "code",
   "execution_count": null,
   "metadata": {},
   "outputs": [],
   "source": []
  }
 ],
 "metadata": {
  "anaconda-cloud": {},
  "kernelspec": {
   "display_name": "Python 3",
   "language": "python",
   "name": "python3"
  },
  "language_info": {
   "codemirror_mode": {
    "name": "ipython",
    "version": 3
   },
   "file_extension": ".py",
   "mimetype": "text/x-python",
   "name": "python",
   "nbconvert_exporter": "python",
   "pygments_lexer": "ipython3",
   "version": "3.7.7"
  }
 },
 "nbformat": 4,
 "nbformat_minor": 1
}
